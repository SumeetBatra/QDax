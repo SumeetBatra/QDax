{
 "cells": [
  {
   "cell_type": "code",
   "execution_count": null,
   "metadata": {
    "collapsed": true
   },
   "outputs": [],
   "source": [
    "import os\n",
    "os.chdir('/home/sumeet/QDax')"
   ]
  },
  {
   "cell_type": "code",
   "execution_count": null,
   "outputs": [],
   "source": [
    "import jax\n",
    "import jax.numpy as jnp\n",
    "import numpy as np\n",
    "import functools\n",
    "\n",
    "from qdax.core.neuroevolution.networks.networks import MLP\n",
    "from qdax import environments\n",
    "from qdax.core.neuroevolution.buffers.buffer import QDTransition\n",
    "from qdax.core.neuroevolution.mdp_utils import scoring_function\n",
    "from qdax.types import Genotype\n",
    "from qdax.core.containers.mapelites_repertoire import MapElitesRepertoire\n",
    "from jax._src.flatten_util import ravel_pytree\n",
    "\n",
    "from IPython.display import HTML, Image\n",
    "from IPython.display import display\n",
    "from brax.io import html, image"
   ],
   "metadata": {
    "collapsed": false
   }
  },
  {
   "cell_type": "code",
   "execution_count": null,
   "outputs": [],
   "source": [
    "# define the env\n",
    "env_name='ant_uni'\n",
    "seed=1111\n",
    "episode_length=1000\n",
    "env = environments.create(env_name, episode_length=episode_length)\n",
    "env_batch_size=1"
   ],
   "metadata": {
    "collapsed": false
   }
  },
  {
   "cell_type": "code",
   "execution_count": null,
   "outputs": [],
   "source": [
    "# define the MLP architecture\n",
    "policy_layer_sizes = (128, 128) + (env.action_size,)\n",
    "policy_network = MLP(\n",
    "    layer_sizes=policy_layer_sizes,\n",
    "    kernel_init=jax.nn.initializers.lecun_uniform(),\n",
    "    final_activation=jnp.tanh,\n",
    ")"
   ],
   "metadata": {
    "collapsed": false
   }
  },
  {
   "cell_type": "code",
   "execution_count": null,
   "outputs": [],
   "source": [
    "# Init a random key\n",
    "random_key = jax.random.PRNGKey(seed)\n",
    "random_key, subkey = jax.random.split(random_key)\n",
    "keys = jax.random.split(subkey, num=env_batch_size)\n",
    "fake_batch = jnp.zeros(shape=(env_batch_size, env.observation_size))\n",
    "init_variables = jax.vmap(policy_network.init)(keys, fake_batch)\n",
    "\n",
    "# Create the initial environment states\n",
    "random_key, subkey = jax.random.split(random_key)\n",
    "keys = jnp.repeat(jnp.expand_dims(subkey, axis=0), repeats=env_batch_size, axis=0)\n",
    "reset_fn = jax.jit(jax.vmap(env.reset))\n",
    "init_states = reset_fn(keys)\n",
    "\n",
    "fake_batch = jnp.zeros(shape=(env_batch_size, env.observation_size))\n",
    "init_variables = jax.vmap(policy_network.init)(keys, fake_batch)"
   ],
   "metadata": {
    "collapsed": false
   }
  },
  {
   "cell_type": "code",
   "execution_count": null,
   "outputs": [],
   "source": [
    "\n",
    "def load_archive(random_key):\n",
    "    cp_path = '/home/sumeet/QDax/experiments/pga_me_ant_uni_testrun_seed_1111/checkpoints/checkpoint_00399/'\n",
    "    random_key, subkey = jax.random.split(random_key)\n",
    "    fake_batch = jnp.zeros(shape=(env.observation_size,))\n",
    "    fake_params = policy_network.init(subkey, fake_batch)\n",
    "\n",
    "    _, reconstruction_fn = ravel_pytree(fake_params)\n",
    "    repertoire = MapElitesRepertoire.load(reconstruction_fn=reconstruction_fn, path=cp_path)\n",
    "    return repertoire"
   ],
   "metadata": {
    "collapsed": false
   }
  },
  {
   "cell_type": "code",
   "execution_count": null,
   "outputs": [],
   "source": [
    "repertoire = load_archive(random_key=random_key)\n",
    "best_idx = jnp.argmax(repertoire.fitnesses)\n",
    "best_fitness = jnp.max(repertoire.fitnesses)\n",
    "best_bd = repertoire.descriptors[best_idx]\n",
    "print(\n",
    "    f\"Best fitness in the repertoire: {best_fitness:.2f}\\n\",\n",
    "    f\"Behavior descriptor of the best individual in the repertoire: {best_bd}\\n\",\n",
    "    f\"Index in the repertoire of this individual: {best_idx}\\n\"\n",
    ")"
   ],
   "metadata": {
    "collapsed": false
   }
  },
  {
   "cell_type": "code",
   "execution_count": null,
   "outputs": [],
   "source": [
    "random_key, subkey = jax.random.split(random_key)\n",
    "rand_idx = jax.random.randint(random_key, shape=(1,), minval=0, maxval=len(repertoire.fitnesses))[0]\n",
    "rand_fitness = repertoire.fitnesses[rand_idx]\n",
    "rand_bd = repertoire.descriptors[rand_idx]\n",
    "print(\n",
    "    f\"Random fitness in the repertoire: {rand_fitness:.2f}\\n\",\n",
    "    f\"Behavior descriptor of the random individual in the repertoire: {rand_bd}\\n\",\n",
    "    f\"Index in the repertoire of this individual: {rand_idx}\\n\"\n",
    ")"
   ],
   "metadata": {
    "collapsed": false
   }
  },
  {
   "cell_type": "code",
   "execution_count": null,
   "outputs": [],
   "source": [
    "my_params = jax.tree_util.tree_map(\n",
    "    lambda x: x[rand_idx],\n",
    "    repertoire.genotypes\n",
    ")\n",
    "\n",
    "jit_env_reset = jax.jit(env.reset)\n",
    "jit_env_step = jax.jit(env.step)\n",
    "jit_inference_fn = jax.jit(policy_network.apply)\n",
    "\n",
    "rollout = []\n",
    "rng = jax.random.PRNGKey(seed=1)\n",
    "state = jit_env_reset(rng=rng)\n",
    "total_reward = 0\n",
    "while not state.done:\n",
    "    rollout.append(state)\n",
    "    action = jit_inference_fn(my_params, state.obs)\n",
    "    state = jit_env_step(state, action)\n",
    "    total_reward += state.reward\n",
    "\n",
    "print(f\"The trajectory of this individual contains {len(rollout)} transitions.\")\n",
    "print(f'{total_reward=}')\n",
    "\n",
    "HTML(html.render(env.sys, [s.qp for s in rollout[:500]]))"
   ],
   "metadata": {
    "collapsed": false
   }
  }
 ],
 "metadata": {
  "kernelspec": {
   "display_name": "Python 3",
   "language": "python",
   "name": "python3"
  },
  "language_info": {
   "codemirror_mode": {
    "name": "ipython",
    "version": 2
   },
   "file_extension": ".py",
   "mimetype": "text/x-python",
   "name": "python",
   "nbconvert_exporter": "python",
   "pygments_lexer": "ipython2",
   "version": "2.7.6"
  }
 },
 "nbformat": 4,
 "nbformat_minor": 0
}
